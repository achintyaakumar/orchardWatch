{
 "cells": [
  {
   "cell_type": "code",
   "execution_count": 6,
   "metadata": {},
   "outputs": [],
   "source": [
    "#Import libraries\n",
    "\n",
    "import urllib.request\n",
    "import json\n",
    "from pprint import pprint\n",
    "import pandas as pd\n",
    "import config\n",
    "import datetime"
   ]
  },
  {
   "cell_type": "code",
   "execution_count": 7,
   "metadata": {},
   "outputs": [
    {
     "name": "stdout",
     "output_type": "stream",
     "text": [
      "2020-11-13 18:10:10\n",
      "2020-11-13 18:05:10\n"
     ]
    }
   ],
   "source": [
    "#Get current timestamp\n",
    "curTime = (datetime.datetime.now() + datetime.timedelta(hours=5)- datetime.timedelta(minutes=15)).strftime('%Y-%m-%d %H:%M:%S')\n",
    "print(curTime)\n",
    "prevTime = (datetime.datetime.now() + datetime.timedelta(hours=5) - datetime.timedelta(minutes=20)).strftime('%Y-%m-%d %H:%M:%S')\n",
    "print(prevTime)"
   ]
  },
  {
   "cell_type": "code",
   "execution_count": 5,
   "metadata": {},
   "outputs": [
    {
     "ename": "NameError",
     "evalue": "name 'config' is not defined",
     "output_type": "error",
     "traceback": [
      "\u001b[1;31m---------------------------------------------------------------------------\u001b[0m",
      "\u001b[1;31mNameError\u001b[0m                                 Traceback (most recent call last)",
      "\u001b[1;32m<ipython-input-5-0d6d3fdf02a6>\u001b[0m in \u001b[0;36m<module>\u001b[1;34m\u001b[0m\n\u001b[0;32m      6\u001b[0m   \u001b[1;34m\"action\"\u001b[0m\u001b[1;33m:\u001b[0m \u001b[1;34m\"\"\u001b[0m\u001b[1;33m,\u001b[0m\u001b[1;33m\u001b[0m\u001b[1;33m\u001b[0m\u001b[0m\n\u001b[0;32m      7\u001b[0m   \"authentication\": {\n\u001b[1;32m----> 8\u001b[1;33m     \u001b[1;34m\"password\"\u001b[0m\u001b[1;33m:\u001b[0m \u001b[0mconfig\u001b[0m\u001b[1;33m.\u001b[0m\u001b[0mpassword\u001b[0m\u001b[1;33m,\u001b[0m\u001b[1;33m\u001b[0m\u001b[1;33m\u001b[0m\u001b[0m\n\u001b[0m\u001b[0;32m      9\u001b[0m     \u001b[1;34m\"token\"\u001b[0m\u001b[1;33m:\u001b[0m \u001b[0mconfig\u001b[0m\u001b[1;33m.\u001b[0m\u001b[0mtoken\u001b[0m\u001b[1;33m,\u001b[0m\u001b[1;33m\u001b[0m\u001b[1;33m\u001b[0m\u001b[0m\n\u001b[0;32m     10\u001b[0m     \u001b[1;34m\"user\"\u001b[0m\u001b[1;33m:\u001b[0m \u001b[0mconfig\u001b[0m\u001b[1;33m.\u001b[0m\u001b[0musername\u001b[0m\u001b[1;33m\u001b[0m\u001b[1;33m\u001b[0m\u001b[0m\n",
      "\u001b[1;31mNameError\u001b[0m: name 'config' is not defined"
     ]
    }
   ],
   "source": [
    "#Specify values\n",
    "\n",
    "url = \"https://webservice.hobolink.com/restv2/data/json\"\n",
    "\n",
    "values = {\n",
    "  \"action\": \"\",\n",
    "  \"authentication\": {\n",
    "    \"password\": config.password,\n",
    "    \"token\": config.token,\n",
    "    \"user\": config.username\n",
    "  },\n",
    "  \"query\": {\n",
    "    \"end_date_time\": curTime,\n",
    "    \"loggers\": [20777720,20699245,1],\n",
    "    \"start_date_time\": prevTime\n",
    "  }\n",
    "}\n",
    "\n",
    "\n",
    "headers = {\n",
    "    \"Content-Type\": \"application/json\",\n",
    "    \"Accept\": \"application/json\",\n",
    "}"
   ]
  },
  {
   "cell_type": "code",
   "execution_count": 25,
   "metadata": {},
   "outputs": [],
   "source": [
    "#Get data\n",
    "\n",
    "data = json.dumps(values).encode(\"utf-8\")\n",
    "#pprint(data)\n",
    "\n",
    "try:\n",
    "    req = urllib.request.Request(url, data, headers)\n",
    "    with urllib.request.urlopen(req) as f:\n",
    "        res = f.read()\n",
    "    #pprint(res.decode())\n",
    "except Exception as e:\n",
    "    pprint(e)"
   ]
  },
  {
   "cell_type": "code",
   "execution_count": 26,
   "metadata": {},
   "outputs": [],
   "source": [
    "#Convert response to a pandas dataframe\n",
    "\n",
    "data = json.loads(res.decode())\n",
    "df = pd.json_normalize(data['observationList'])\n",
    "#df.to_csv(\"data.csv\")"
   ]
  },
  {
   "cell_type": "code",
   "execution_count": 27,
   "metadata": {},
   "outputs": [
    {
     "data": {
      "text/html": [
       "<div>\n",
       "<style scoped>\n",
       "    .dataframe tbody tr th:only-of-type {\n",
       "        vertical-align: middle;\n",
       "    }\n",
       "\n",
       "    .dataframe tbody tr th {\n",
       "        vertical-align: top;\n",
       "    }\n",
       "\n",
       "    .dataframe thead th {\n",
       "        text-align: right;\n",
       "    }\n",
       "</style>\n",
       "<table border=\"1\" class=\"dataframe\">\n",
       "  <thead>\n",
       "    <tr style=\"text-align: right;\">\n",
       "      <th></th>\n",
       "      <th>logger_sn</th>\n",
       "      <th>sensor_sn</th>\n",
       "      <th>channel_num</th>\n",
       "      <th>timestamp</th>\n",
       "      <th>data_type</th>\n",
       "      <th>si_value</th>\n",
       "      <th>si_unit</th>\n",
       "      <th>us_value</th>\n",
       "      <th>us_unit</th>\n",
       "      <th>scaled_value</th>\n",
       "      <th>scaled_unit</th>\n",
       "    </tr>\n",
       "  </thead>\n",
       "  <tbody>\n",
       "    <tr>\n",
       "      <th>99</th>\n",
       "      <td>20699245</td>\n",
       "      <td>20692768-1</td>\n",
       "      <td>12</td>\n",
       "      <td>2020-11-11 16:55:00Z</td>\n",
       "      <td>1</td>\n",
       "      <td>19.484015</td>\n",
       "      <td>°C</td>\n",
       "      <td>67.071226</td>\n",
       "      <td>°F</td>\n",
       "      <td>0.0</td>\n",
       "      <td>None</td>\n",
       "    </tr>\n",
       "  </tbody>\n",
       "</table>\n",
       "</div>"
      ],
      "text/plain": [
       "   logger_sn   sensor_sn  channel_num             timestamp data_type  \\\n",
       "99  20699245  20692768-1           12  2020-11-11 16:55:00Z         1   \n",
       "\n",
       "     si_value si_unit   us_value us_unit  scaled_value scaled_unit  \n",
       "99  19.484015      °C  67.071226      °F           0.0        None  "
      ]
     },
     "execution_count": 27,
     "metadata": {},
     "output_type": "execute_result"
    }
   ],
   "source": [
    "#Temperature air North\n",
    "df.loc[df['sensor_sn'] == \"20777735-1\"]\n",
    "\n",
    "#Temperature air South\n",
    "df.loc[df['sensor_sn'] == \"20692768-1\"]"
   ]
  },
  {
   "cell_type": "code",
   "execution_count": 20,
   "metadata": {},
   "outputs": [
    {
     "data": {
      "text/plain": [
       "float"
      ]
     },
     "execution_count": 20,
     "metadata": {},
     "output_type": "execute_result"
    }
   ],
   "source": [
    "row = df.loc[df['sensor_sn'] == \"20777735-1\"]\n",
    "value = row.iloc[0]['si_value']\n",
    "type(float(value))"
   ]
  },
  {
   "cell_type": "code",
   "execution_count": 21,
   "metadata": {},
   "outputs": [
    {
     "data": {
      "text/html": [
       "<div>\n",
       "<style scoped>\n",
       "    .dataframe tbody tr th:only-of-type {\n",
       "        vertical-align: middle;\n",
       "    }\n",
       "\n",
       "    .dataframe tbody tr th {\n",
       "        vertical-align: top;\n",
       "    }\n",
       "\n",
       "    .dataframe thead th {\n",
       "        text-align: right;\n",
       "    }\n",
       "</style>\n",
       "<table border=\"1\" class=\"dataframe\">\n",
       "  <thead>\n",
       "    <tr style=\"text-align: right;\">\n",
       "      <th></th>\n",
       "      <th>logger_sn</th>\n",
       "      <th>sensor_sn</th>\n",
       "      <th>channel_num</th>\n",
       "      <th>timestamp</th>\n",
       "      <th>data_type</th>\n",
       "      <th>si_value</th>\n",
       "      <th>si_unit</th>\n",
       "      <th>us_value</th>\n",
       "      <th>us_unit</th>\n",
       "      <th>scaled_value</th>\n",
       "      <th>scaled_unit</th>\n",
       "    </tr>\n",
       "  </thead>\n",
       "  <tbody>\n",
       "    <tr>\n",
       "      <th>1</th>\n",
       "      <td>20699245</td>\n",
       "      <td>20684342-1</td>\n",
       "      <td>11</td>\n",
       "      <td>2020-11-11 16:45:00Z</td>\n",
       "      <td>1</td>\n",
       "      <td>12.991962</td>\n",
       "      <td>°C</td>\n",
       "      <td>55.385531</td>\n",
       "      <td>°F</td>\n",
       "      <td>0.0</td>\n",
       "      <td>None</td>\n",
       "    </tr>\n",
       "  </tbody>\n",
       "</table>\n",
       "</div>"
      ],
      "text/plain": [
       "  logger_sn   sensor_sn  channel_num             timestamp data_type  \\\n",
       "1  20699245  20684342-1           11  2020-11-11 16:45:00Z         1   \n",
       "\n",
       "    si_value si_unit   us_value us_unit  scaled_value scaled_unit  \n",
       "1  12.991962      °C  55.385531      °F           0.0        None  "
      ]
     },
     "execution_count": 21,
     "metadata": {},
     "output_type": "execute_result"
    }
   ],
   "source": [
    "#Temperature soil North\n",
    "df.loc[df['sensor_sn'] == \"20770089-1\"]\n",
    "\n",
    "#Temperature soil South\n",
    "df.loc[df['sensor_sn'] == \"20684342-1\"]"
   ]
  },
  {
   "cell_type": "code",
   "execution_count": 9,
   "metadata": {},
   "outputs": [
    {
     "name": "stdout",
     "output_type": "stream",
     "text": [
      "2020-11-13 18:10:30\n",
      "2020-11-13 06:10:30\n"
     ]
    }
   ],
   "source": [
    "import datetime\n",
    "#Get last 12 hours\n",
    "curTime = (datetime.datetime.now() + datetime.timedelta(hours=5)- datetime.timedelta(minutes=15)).strftime('%Y-%m-%d %H:%M:%S')\n",
    "print(curTime)\n",
    "prevTime = (datetime.datetime.now() + datetime.timedelta(hours=5) - datetime.timedelta(minutes=15) - datetime.timedelta(hours=12)).strftime('%Y-%m-%d %H:%M:%S')\n",
    "print(prevTime)"
   ]
  },
  {
   "cell_type": "code",
   "execution_count": 10,
   "metadata": {},
   "outputs": [],
   "source": [
    "#Specify values\n",
    "\n",
    "url = \"https://webservice.hobolink.com/restv2/data/json\"\n",
    "\n",
    "values = {\n",
    "  \"action\": \"\",\n",
    "  \"authentication\": {\n",
    "    \"password\": config.password,\n",
    "    \"token\": config.token,\n",
    "    \"user\": config.username\n",
    "  },\n",
    "  \"query\": {\n",
    "    \"end_date_time\": curTime,\n",
    "    \"loggers\": [20777720,20699245,1],\n",
    "    \"start_date_time\": prevTime\n",
    "  }\n",
    "}\n",
    "\n",
    "\n",
    "headers = {\n",
    "    \"Content-Type\": \"application/json\",\n",
    "    \"Accept\": \"application/json\",\n",
    "}"
   ]
  },
  {
   "cell_type": "code",
   "execution_count": 11,
   "metadata": {},
   "outputs": [],
   "source": [
    "#Get data\n",
    "\n",
    "data = json.dumps(values).encode(\"utf-8\")\n",
    "#pprint(data)\n",
    "\n",
    "try:\n",
    "    req = urllib.request.Request(url, data, headers)\n",
    "    with urllib.request.urlopen(req) as f:\n",
    "        res = f.read()\n",
    "    #pprint(res.decode())\n",
    "except Exception as e:\n",
    "    pprint(e)"
   ]
  },
  {
   "cell_type": "code",
   "execution_count": 12,
   "metadata": {},
   "outputs": [],
   "source": [
    "#Convert response to a pandas dataframe\n",
    "\n",
    "data = json.loads(res.decode())\n",
    "df = pd.json_normalize(data['observationList'])\n",
    "#df.to_csv(\"data.csv\")"
   ]
  },
  {
   "cell_type": "code",
   "execution_count": 38,
   "metadata": {},
   "outputs": [
    {
     "data": {
      "text/html": [
       "<div>\n",
       "<style scoped>\n",
       "    .dataframe tbody tr th:only-of-type {\n",
       "        vertical-align: middle;\n",
       "    }\n",
       "\n",
       "    .dataframe tbody tr th {\n",
       "        vertical-align: top;\n",
       "    }\n",
       "\n",
       "    .dataframe thead th {\n",
       "        text-align: right;\n",
       "    }\n",
       "</style>\n",
       "<table border=\"1\" class=\"dataframe\">\n",
       "  <thead>\n",
       "    <tr style=\"text-align: right;\">\n",
       "      <th></th>\n",
       "      <th>timestamp</th>\n",
       "      <th>North</th>\n",
       "    </tr>\n",
       "  </thead>\n",
       "  <tbody>\n",
       "    <tr>\n",
       "      <th>2</th>\n",
       "      <td>2020-11-13 06:15:00Z</td>\n",
       "      <td>41.183502</td>\n",
       "    </tr>\n",
       "    <tr>\n",
       "      <th>155</th>\n",
       "      <td>2020-11-13 06:20:00Z</td>\n",
       "      <td>41.137049</td>\n",
       "    </tr>\n",
       "    <tr>\n",
       "      <th>308</th>\n",
       "      <td>2020-11-13 06:25:00Z</td>\n",
       "      <td>41.183502</td>\n",
       "    </tr>\n",
       "    <tr>\n",
       "      <th>461</th>\n",
       "      <td>2020-11-13 06:30:00Z</td>\n",
       "      <td>41.322771</td>\n",
       "    </tr>\n",
       "    <tr>\n",
       "      <th>614</th>\n",
       "      <td>2020-11-13 06:35:00Z</td>\n",
       "      <td>41.369165</td>\n",
       "    </tr>\n",
       "    <tr>\n",
       "      <th>...</th>\n",
       "      <td>...</td>\n",
       "      <td>...</td>\n",
       "    </tr>\n",
       "    <tr>\n",
       "      <th>21272</th>\n",
       "      <td>2020-11-13 17:50:00Z</td>\n",
       "      <td>40.858019</td>\n",
       "    </tr>\n",
       "    <tr>\n",
       "      <th>21425</th>\n",
       "      <td>2020-11-13 17:55:00Z</td>\n",
       "      <td>40.438452</td>\n",
       "    </tr>\n",
       "    <tr>\n",
       "      <th>21578</th>\n",
       "      <td>2020-11-13 18:00:00Z</td>\n",
       "      <td>40.531796</td>\n",
       "    </tr>\n",
       "    <tr>\n",
       "      <th>21731</th>\n",
       "      <td>2020-11-13 18:05:00Z</td>\n",
       "      <td>40.345046</td>\n",
       "    </tr>\n",
       "    <tr>\n",
       "      <th>21884</th>\n",
       "      <td>2020-11-13 18:10:00Z</td>\n",
       "      <td>40.298320</td>\n",
       "    </tr>\n",
       "  </tbody>\n",
       "</table>\n",
       "<p>144 rows × 2 columns</p>\n",
       "</div>"
      ],
      "text/plain": [
       "                  timestamp      North\n",
       "2      2020-11-13 06:15:00Z  41.183502\n",
       "155    2020-11-13 06:20:00Z  41.137049\n",
       "308    2020-11-13 06:25:00Z  41.183502\n",
       "461    2020-11-13 06:30:00Z  41.322771\n",
       "614    2020-11-13 06:35:00Z  41.369165\n",
       "...                     ...        ...\n",
       "21272  2020-11-13 17:50:00Z  40.858019\n",
       "21425  2020-11-13 17:55:00Z  40.438452\n",
       "21578  2020-11-13 18:00:00Z  40.531796\n",
       "21731  2020-11-13 18:05:00Z  40.345046\n",
       "21884  2020-11-13 18:10:00Z  40.298320\n",
       "\n",
       "[144 rows x 2 columns]"
      ]
     },
     "execution_count": 38,
     "metadata": {},
     "output_type": "execute_result"
    }
   ],
   "source": [
    "#Temperature air North\n",
    "tempN12 = df.loc[df['sensor_sn'] == \"20777735-1\"]\n",
    "tempN12 = tempN12[['timestamp','us_value']]\n",
    "tempN12 = tempN12.rename(columns={\"us_value\": \"North\"})\n",
    "tempN12"
   ]
  },
  {
   "cell_type": "code",
   "execution_count": 39,
   "metadata": {},
   "outputs": [
    {
     "data": {
      "text/html": [
       "<div>\n",
       "<style scoped>\n",
       "    .dataframe tbody tr th:only-of-type {\n",
       "        vertical-align: middle;\n",
       "    }\n",
       "\n",
       "    .dataframe tbody tr th {\n",
       "        vertical-align: top;\n",
       "    }\n",
       "\n",
       "    .dataframe thead th {\n",
       "        text-align: right;\n",
       "    }\n",
       "</style>\n",
       "<table border=\"1\" class=\"dataframe\">\n",
       "  <thead>\n",
       "    <tr style=\"text-align: right;\">\n",
       "      <th></th>\n",
       "      <th>timestamp</th>\n",
       "      <th>South</th>\n",
       "    </tr>\n",
       "  </thead>\n",
       "  <tbody>\n",
       "    <tr>\n",
       "      <th>97</th>\n",
       "      <td>2020-11-13 06:15:00Z</td>\n",
       "      <td>41.600915</td>\n",
       "    </tr>\n",
       "    <tr>\n",
       "      <th>250</th>\n",
       "      <td>2020-11-13 06:20:00Z</td>\n",
       "      <td>41.600915</td>\n",
       "    </tr>\n",
       "    <tr>\n",
       "      <th>403</th>\n",
       "      <td>2020-11-13 06:25:00Z</td>\n",
       "      <td>41.647221</td>\n",
       "    </tr>\n",
       "    <tr>\n",
       "      <th>556</th>\n",
       "      <td>2020-11-13 06:30:00Z</td>\n",
       "      <td>41.739791</td>\n",
       "    </tr>\n",
       "    <tr>\n",
       "      <th>709</th>\n",
       "      <td>2020-11-13 06:35:00Z</td>\n",
       "      <td>41.786054</td>\n",
       "    </tr>\n",
       "    <tr>\n",
       "      <th>...</th>\n",
       "      <td>...</td>\n",
       "      <td>...</td>\n",
       "    </tr>\n",
       "    <tr>\n",
       "      <th>21361</th>\n",
       "      <td>2020-11-13 17:50:00Z</td>\n",
       "      <td>40.625079</td>\n",
       "    </tr>\n",
       "    <tr>\n",
       "      <th>21514</th>\n",
       "      <td>2020-11-13 17:55:00Z</td>\n",
       "      <td>40.531796</td>\n",
       "    </tr>\n",
       "    <tr>\n",
       "      <th>21667</th>\n",
       "      <td>2020-11-13 18:00:00Z</td>\n",
       "      <td>40.578445</td>\n",
       "    </tr>\n",
       "    <tr>\n",
       "      <th>21820</th>\n",
       "      <td>2020-11-13 18:05:00Z</td>\n",
       "      <td>40.625079</td>\n",
       "    </tr>\n",
       "    <tr>\n",
       "      <th>21972</th>\n",
       "      <td>2020-11-13 18:10:00Z</td>\n",
       "      <td>40.811461</td>\n",
       "    </tr>\n",
       "  </tbody>\n",
       "</table>\n",
       "<p>144 rows × 2 columns</p>\n",
       "</div>"
      ],
      "text/plain": [
       "                  timestamp      South\n",
       "97     2020-11-13 06:15:00Z  41.600915\n",
       "250    2020-11-13 06:20:00Z  41.600915\n",
       "403    2020-11-13 06:25:00Z  41.647221\n",
       "556    2020-11-13 06:30:00Z  41.739791\n",
       "709    2020-11-13 06:35:00Z  41.786054\n",
       "...                     ...        ...\n",
       "21361  2020-11-13 17:50:00Z  40.625079\n",
       "21514  2020-11-13 17:55:00Z  40.531796\n",
       "21667  2020-11-13 18:00:00Z  40.578445\n",
       "21820  2020-11-13 18:05:00Z  40.625079\n",
       "21972  2020-11-13 18:10:00Z  40.811461\n",
       "\n",
       "[144 rows x 2 columns]"
      ]
     },
     "execution_count": 39,
     "metadata": {},
     "output_type": "execute_result"
    }
   ],
   "source": [
    "#Temperature air South\n",
    "tempS12 = df.loc[df['sensor_sn'] == \"20692768-1\"]\n",
    "tempS12 = tempS12[['timestamp','us_value']]\n",
    "tempS12 = tempS12.rename(columns={\"us_value\": \"South\"})\n",
    "tempS12"
   ]
  },
  {
   "cell_type": "code",
   "execution_count": 40,
   "metadata": {},
   "outputs": [
    {
     "data": {
      "text/plain": [
       "Text(0, 0.5, 'Temperature')"
      ]
     },
     "execution_count": 40,
     "metadata": {},
     "output_type": "execute_result"
    },
    {
     "data": {
      "image/png": "[encoded data removed]",
      "text/plain": [
       "<Figure size 432x288 with 1 Axes>"
      ]
     },
     "metadata": {
      "needs_background": "light"
     },
     "output_type": "display_data"
    }
   ],
   "source": [
    "ax = tempN12.plot()\n",
    "tempS12.plot(ax=ax)\n",
    "ax.set_xlabel(\"Timestamp\")\n",
    "ax.set_ylabel(\"Temperature\")"
   ]
  },
  {
   "cell_type": "code",
   "execution_count": null,
   "metadata": {},
   "outputs": [],
   "source": []
  }
 ],
 "metadata": {
  "kernelspec": {
   "display_name": "Python 3",
   "language": "python",
   "name": "python3"
  },
  "language_info": {
   "codemirror_mode": {
    "name": "ipython",
    "version": 3
   },
   "file_extension": ".py",
   "mimetype": "text/x-python",
   "name": "python",
   "nbconvert_exporter": "python",
   "pygments_lexer": "ipython3",
   "version": "3.8.6"
  }
 },
 "nbformat": 4,
 "nbformat_minor": 4
}
