{
 "cells": [
  {
   "cell_type": "code",
   "execution_count": 22,
   "metadata": {},
   "outputs": [],
   "source": [
    "#Import libraries\n",
    "\n",
    "import urllib.request\n",
    "import json\n",
    "from pprint import pprint\n",
    "import pandas as pd\n",
    "import config\n",
    "import datetime"
   ]
  },
  {
   "cell_type": "code",
   "execution_count": 23,
   "metadata": {},
   "outputs": [
    {
     "name": "stdout",
     "output_type": "stream",
     "text": [
      "2020-11-11 16:58:42\n",
      "2020-11-11 16:53:42\n"
     ]
    }
   ],
   "source": [
    "#Get current timestamp\n",
    "curTime = (datetime.datetime.now() + datetime.timedelta(hours=5)- datetime.timedelta(minutes=15)).strftime('%Y-%m-%d %H:%M:%S')\n",
    "print(curTime)\n",
    "prevTime = (datetime.datetime.now() + datetime.timedelta(hours=5) - datetime.timedelta(minutes=20)).strftime('%Y-%m-%d %H:%M:%S')\n",
    "print(prevTime)"
   ]
  },
  {
   "cell_type": "code",
   "execution_count": 24,
   "metadata": {},
   "outputs": [],
   "source": [
    "#Specify values\n",
    "\n",
    "url = \"https://webservice.hobolink.com/restv2/data/json\"\n",
    "\n",
    "values = {\n",
    "  \"action\": \"\",\n",
    "  \"authentication\": {\n",
    "    \"password\": config.password,\n",
    "    \"token\": config.token,\n",
    "    \"user\": config.username\n",
    "  },\n",
    "  \"query\": {\n",
    "    \"end_date_time\": curTime,\n",
    "    \"loggers\": [20777720,20699245,1],\n",
    "    \"start_date_time\": prevTime\n",
    "  }\n",
    "}\n",
    "\n",
    "\n",
    "headers = {\n",
    "    \"Content-Type\": \"application/json\",\n",
    "    \"Accept\": \"application/json\",\n",
    "}"
   ]
  },
  {
   "cell_type": "code",
   "execution_count": 25,
   "metadata": {},
   "outputs": [],
   "source": [
    "#Get data\n",
    "\n",
    "data = json.dumps(values).encode(\"utf-8\")\n",
    "#pprint(data)\n",
    "\n",
    "try:\n",
    "    req = urllib.request.Request(url, data, headers)\n",
    "    with urllib.request.urlopen(req) as f:\n",
    "        res = f.read()\n",
    "    #pprint(res.decode())\n",
    "except Exception as e:\n",
    "    pprint(e)"
   ]
  },
  {
   "cell_type": "code",
   "execution_count": 26,
   "metadata": {},
   "outputs": [],
   "source": [
    "#Convert response to a pandas dataframe\n",
    "\n",
    "data = json.loads(res.decode())\n",
    "df = pd.json_normalize(data['observationList'])\n",
    "#df.to_csv(\"data.csv\")"
   ]
  },
  {
   "cell_type": "code",
   "execution_count": 27,
   "metadata": {},
   "outputs": [
    {
     "data": {
      "text/html": [
       "<div>\n",
       "<style scoped>\n",
       "    .dataframe tbody tr th:only-of-type {\n",
       "        vertical-align: middle;\n",
       "    }\n",
       "\n",
       "    .dataframe tbody tr th {\n",
       "        vertical-align: top;\n",
       "    }\n",
       "\n",
       "    .dataframe thead th {\n",
       "        text-align: right;\n",
       "    }\n",
       "</style>\n",
       "<table border=\"1\" class=\"dataframe\">\n",
       "  <thead>\n",
       "    <tr style=\"text-align: right;\">\n",
       "      <th></th>\n",
       "      <th>logger_sn</th>\n",
       "      <th>sensor_sn</th>\n",
       "      <th>channel_num</th>\n",
       "      <th>timestamp</th>\n",
       "      <th>data_type</th>\n",
       "      <th>si_value</th>\n",
       "      <th>si_unit</th>\n",
       "      <th>us_value</th>\n",
       "      <th>us_unit</th>\n",
       "      <th>scaled_value</th>\n",
       "      <th>scaled_unit</th>\n",
       "    </tr>\n",
       "  </thead>\n",
       "  <tbody>\n",
       "    <tr>\n",
       "      <th>99</th>\n",
       "      <td>20699245</td>\n",
       "      <td>20692768-1</td>\n",
       "      <td>12</td>\n",
       "      <td>2020-11-11 16:55:00Z</td>\n",
       "      <td>1</td>\n",
       "      <td>19.484015</td>\n",
       "      <td>°C</td>\n",
       "      <td>67.071226</td>\n",
       "      <td>°F</td>\n",
       "      <td>0.0</td>\n",
       "      <td>None</td>\n",
       "    </tr>\n",
       "  </tbody>\n",
       "</table>\n",
       "</div>"
      ],
      "text/plain": [
       "   logger_sn   sensor_sn  channel_num             timestamp data_type  \\\n",
       "99  20699245  20692768-1           12  2020-11-11 16:55:00Z         1   \n",
       "\n",
       "     si_value si_unit   us_value us_unit  scaled_value scaled_unit  \n",
       "99  19.484015      °C  67.071226      °F           0.0        None  "
      ]
     },
     "execution_count": 27,
     "metadata": {},
     "output_type": "execute_result"
    }
   ],
   "source": [
    "#Temperature air North\n",
    "df.loc[df['sensor_sn'] == \"20777735-1\"]\n",
    "\n",
    "#Temperature air South\n",
    "df.loc[df['sensor_sn'] == \"20692768-1\"]"
   ]
  },
  {
   "cell_type": "code",
   "execution_count": 20,
   "metadata": {},
   "outputs": [
    {
     "data": {
      "text/plain": [
       "float"
      ]
     },
     "execution_count": 20,
     "metadata": {},
     "output_type": "execute_result"
    }
   ],
   "source": [
    "row = df.loc[df['sensor_sn'] == \"20777735-1\"]\n",
    "value = row.iloc[0]['si_value']\n",
    "type(float(value))"
   ]
  },
  {
   "cell_type": "code",
   "execution_count": 21,
   "metadata": {},
   "outputs": [
    {
     "data": {
      "text/html": [
       "<div>\n",
       "<style scoped>\n",
       "    .dataframe tbody tr th:only-of-type {\n",
       "        vertical-align: middle;\n",
       "    }\n",
       "\n",
       "    .dataframe tbody tr th {\n",
       "        vertical-align: top;\n",
       "    }\n",
       "\n",
       "    .dataframe thead th {\n",
       "        text-align: right;\n",
       "    }\n",
       "</style>\n",
       "<table border=\"1\" class=\"dataframe\">\n",
       "  <thead>\n",
       "    <tr style=\"text-align: right;\">\n",
       "      <th></th>\n",
       "      <th>logger_sn</th>\n",
       "      <th>sensor_sn</th>\n",
       "      <th>channel_num</th>\n",
       "      <th>timestamp</th>\n",
       "      <th>data_type</th>\n",
       "      <th>si_value</th>\n",
       "      <th>si_unit</th>\n",
       "      <th>us_value</th>\n",
       "      <th>us_unit</th>\n",
       "      <th>scaled_value</th>\n",
       "      <th>scaled_unit</th>\n",
       "    </tr>\n",
       "  </thead>\n",
       "  <tbody>\n",
       "    <tr>\n",
       "      <th>1</th>\n",
       "      <td>20699245</td>\n",
       "      <td>20684342-1</td>\n",
       "      <td>11</td>\n",
       "      <td>2020-11-11 16:45:00Z</td>\n",
       "      <td>1</td>\n",
       "      <td>12.991962</td>\n",
       "      <td>°C</td>\n",
       "      <td>55.385531</td>\n",
       "      <td>°F</td>\n",
       "      <td>0.0</td>\n",
       "      <td>None</td>\n",
       "    </tr>\n",
       "  </tbody>\n",
       "</table>\n",
       "</div>"
      ],
      "text/plain": [
       "  logger_sn   sensor_sn  channel_num             timestamp data_type  \\\n",
       "1  20699245  20684342-1           11  2020-11-11 16:45:00Z         1   \n",
       "\n",
       "    si_value si_unit   us_value us_unit  scaled_value scaled_unit  \n",
       "1  12.991962      °C  55.385531      °F           0.0        None  "
      ]
     },
     "execution_count": 21,
     "metadata": {},
     "output_type": "execute_result"
    }
   ],
   "source": [
    "#Temperature soil North\n",
    "df.loc[df['sensor_sn'] == \"20770089-1\"]\n",
    "\n",
    "#Temperature soil South\n",
    "df.loc[df['sensor_sn'] == \"20684342-1\"]"
   ]
  },
  {
   "cell_type": "code",
   "execution_count": null,
   "metadata": {},
   "outputs": [],
   "source": []
  }
 ],
 "metadata": {
  "kernelspec": {
   "display_name": "Python 3",
   "language": "python",
   "name": "python3"
  },
  "language_info": {
   "codemirror_mode": {
    "name": "ipython",
    "version": 3
   },
   "file_extension": ".py",
   "mimetype": "text/x-python",
   "name": "python",
   "nbconvert_exporter": "python",
   "pygments_lexer": "ipython3",
   "version": "3.8.6"
  }
 },
 "nbformat": 4,
 "nbformat_minor": 4
}
